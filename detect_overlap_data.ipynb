{
 "cells": [
  {
   "cell_type": "code",
   "execution_count": 2,
   "id": "b84688d0",
   "metadata": {},
   "outputs": [],
   "source": [
    "alg = {\n",
    "    \"alg1\": set(),\n",
    "    \"alg2\": set(),\n",
    "    \"alg3\": set(),\n",
    "    \"alg4\": set(),\n",
    "    \"alg5\": set(),\n",
    "    \"alg6\": set(),\n",
    "    \"alg7\": set(),\n",
    "}\n",
    "\n",
    "\n",
    "with open(\"./overlap_data.txt\", \"r\") as f:\n",
    "    while True:\n",
    "        line = f.readline()\n",
    "        if not line:\n",
    "            break\n",
    "        fields = line.strip(\"\\n\").split(\" \")\n",
    "        guid = fields[0]\n",
    "        algid = fields[1]\n",
    "        alg[algid].add(guid)"
   ]
  },
  {
   "cell_type": "code",
   "execution_count": 3,
   "id": "e7dda9f8",
   "metadata": {},
   "outputs": [
    {
     "name": "stdout",
     "output_type": "stream",
     "text": [
      "Alg: alg1 - 25427\n",
      "\tIntersection alg1 - 25427\n",
      "\tIntersection alg2 - 0\n",
      "\tIntersection alg3 - 32\n",
      "\tIntersection alg4 - 28\n",
      "\tIntersection alg5 - 0\n",
      "\tIntersection alg6 - 0\n",
      "\tIntersection alg7 - 83\n",
      "Alg: alg2 - 25433\n",
      "\tIntersection alg1 - 0\n",
      "\tIntersection alg2 - 25433\n",
      "\tIntersection alg3 - 37\n",
      "\tIntersection alg4 - 42\n",
      "\tIntersection alg5 - 0\n",
      "\tIntersection alg6 - 0\n",
      "\tIntersection alg7 - 99\n",
      "Alg: alg3 - 222338\n",
      "\tIntersection alg1 - 32\n",
      "\tIntersection alg2 - 37\n",
      "\tIntersection alg3 - 222338\n",
      "\tIntersection alg4 - 0\n",
      "\tIntersection alg5 - 0\n",
      "\tIntersection alg6 - 0\n",
      "\tIntersection alg7 - 0\n",
      "Alg: alg4 - 222529\n",
      "\tIntersection alg1 - 28\n",
      "\tIntersection alg2 - 42\n",
      "\tIntersection alg3 - 0\n",
      "\tIntersection alg4 - 222529\n",
      "\tIntersection alg5 - 0\n",
      "\tIntersection alg6 - 0\n",
      "\tIntersection alg7 - 0\n",
      "Alg: alg5 - 134862\n",
      "\tIntersection alg1 - 0\n",
      "\tIntersection alg2 - 0\n",
      "\tIntersection alg3 - 0\n",
      "\tIntersection alg4 - 0\n",
      "\tIntersection alg5 - 134862\n",
      "\tIntersection alg6 - 0\n",
      "\tIntersection alg7 - 0\n",
      "Alg: alg6 - 134921\n",
      "\tIntersection alg1 - 0\n",
      "\tIntersection alg2 - 0\n",
      "\tIntersection alg3 - 0\n",
      "\tIntersection alg4 - 0\n",
      "\tIntersection alg5 - 0\n",
      "\tIntersection alg6 - 134921\n",
      "\tIntersection alg7 - 0\n",
      "Alg: alg7 - 87548\n",
      "\tIntersection alg1 - 83\n",
      "\tIntersection alg2 - 99\n",
      "\tIntersection alg3 - 0\n",
      "\tIntersection alg4 - 0\n",
      "\tIntersection alg5 - 0\n",
      "\tIntersection alg6 - 0\n",
      "\tIntersection alg7 - 87548\n"
     ]
    }
   ],
   "source": [
    "for k, v in alg.items():\n",
    "    print(f\"Alg: {k} - {len(v)}\")\n",
    "    print(f\"\\tIntersection alg1 - {len(alg[k].intersection(alg['alg1']))}\")\n",
    "    print(f\"\\tIntersection alg2 - {len(alg[k].intersection(alg['alg2']))}\")\n",
    "    print(f\"\\tIntersection alg3 - {len(alg[k].intersection(alg['alg3']))}\")\n",
    "    print(f\"\\tIntersection alg4 - {len(alg[k].intersection(alg['alg4']))}\")\n",
    "    print(f\"\\tIntersection alg5 - {len(alg[k].intersection(alg['alg5']))}\")\n",
    "    print(f\"\\tIntersection alg6 - {len(alg[k].intersection(alg['alg6']))}\")\n",
    "    print(f\"\\tIntersection alg7 - {len(alg[k].intersection(alg['alg7']))}\")"
   ]
  },
  {
   "cell_type": "code",
   "execution_count": null,
   "id": "fc6b3d74",
   "metadata": {},
   "outputs": [],
   "source": []
  }
 ],
 "metadata": {
  "kernelspec": {
   "display_name": "Python 3",
   "language": "python",
   "name": "python3"
  },
  "language_info": {
   "codemirror_mode": {
    "name": "ipython",
    "version": 3
   },
   "file_extension": ".py",
   "mimetype": "text/x-python",
   "name": "python",
   "nbconvert_exporter": "python",
   "pygments_lexer": "ipython3",
   "version": "3.6.13"
  }
 },
 "nbformat": 4,
 "nbformat_minor": 5
}
